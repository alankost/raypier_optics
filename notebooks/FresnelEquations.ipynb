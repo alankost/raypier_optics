{
 "cells": [
  {
   "cell_type": "code",
   "execution_count": 2,
   "metadata": {},
   "outputs": [
    {
     "name": "stdout",
     "output_type": "stream",
     "text": [
      "IPython console for SymPy 1.6.1 (Python 3.8.3-64-bit) (ground types: gmpy)\n",
      "\n",
      "These commands were executed:\n",
      ">>> from __future__ import division\n",
      ">>> from sympy import *\n",
      ">>> x, y, z, t = symbols('x y z t')\n",
      ">>> k, m, n = symbols('k m n', integer=True)\n",
      ">>> f, g, h = symbols('f g h', cls=Function)\n",
      ">>> init_printing()\n",
      "\n",
      "Documentation can be found at https://docs.sympy.org/1.6.1/\n",
      "\n"
     ]
    }
   ],
   "source": [
    "import sympy\n",
    "from sympy import init_session\n",
    "\n",
    "init_session()"
   ]
  },
  {
   "cell_type": "code",
   "execution_count": 13,
   "metadata": {},
   "outputs": [],
   "source": [
    "theta1, theta2, theta3 = symbols(\"theta1 theta2 theta3\")\n",
    "\n",
    "n1, n2, n3 = symbols(\"n_1 n_2 n_3\")\n",
    "\n",
    "t, wl = symbols(\"t lambda\")"
   ]
  },
  {
   "cell_type": "code",
   "execution_count": 41,
   "metadata": {},
   "outputs": [],
   "source": [
    "def Mp(n1, theta1, n2, theta2):\n",
    "    m00 = m11 = (cos(theta1)/cos(theta2) - n1/n2)/2\n",
    "    m01 = m10 = (cos(theta1)/cos(theta2) + n1/n2)/2\n",
    "    return Matrix([[m00,m01],[m10,m11]])\n",
    "\n",
    "def Ms(n1, theta1, n2, theta2):\n",
    "    m00 = m11 = (1 - n1*cos(theta1)/(n2*cos(theta2)))/2\n",
    "    m01 = m10 = (1 + n1*cos(theta1)/(n2*cos(theta2)))/2\n",
    "    return Matrix([[m00,m01],[m10,m11]])\n",
    "\n",
    "def P(theta, n, thickness, wavelen):\n",
    "    kx = thickness/wavelen\n",
    "    cos_th = cos(theta)\n",
    "    arg = kx*2*pi*((n-1)/cos_th + cos_th)\n",
    "    m10 = exp(-1.0j*arg)\n",
    "    m01 = exp(1.0j*arg)\n",
    "    return Matrix([[0, m01], [m10, 0]])"
   ]
  },
  {
   "cell_type": "markdown",
   "metadata": {},
   "source": [
    "# P-Polarisation Transfer Matrix"
   ]
  },
  {
   "cell_type": "code",
   "execution_count": 22,
   "metadata": {},
   "outputs": [],
   "source": [
    "M = Mp(n2, theta2, n3, theta3)*P(theta2, n2,t, wl)*Mp(n1, theta1, n2, theta2)"
   ]
  },
  {
   "cell_type": "code",
   "execution_count": 36,
   "metadata": {},
   "outputs": [
    {
     "data": {
      "image/png": "[encoded data removed]",
      "text/latex": [
       "$\\displaystyle - \\frac{\\left(\\left(n_{1} \\cos{\\left(\\theta_{2} \\right)} - n_{2} \\cos{\\left(\\theta_{1} \\right)}\\right) \\left(n_{2} \\cos{\\left(\\theta_{3} \\right)} + n_{3} \\cos{\\left(\\theta_{2} \\right)}\\right) + \\left(n_{1} \\cos{\\left(\\theta_{2} \\right)} + n_{2} \\cos{\\left(\\theta_{1} \\right)}\\right) \\left(n_{2} \\cos{\\left(\\theta_{3} \\right)} - n_{3} \\cos{\\left(\\theta_{2} \\right)}\\right) e^{\\frac{4.0 i \\pi t \\left(n_{2} - \\sin^{2}{\\left(\\theta_{2} \\right)}\\right)}{\\lambda \\cos{\\left(\\theta_{2} \\right)}}}\\right) e^{- \\frac{2.0 i \\pi t \\left(n_{2} - \\sin^{2}{\\left(\\theta_{2} \\right)}\\right)}{\\lambda \\cos{\\left(\\theta_{2} \\right)}}}}{4 n_{2} n_{3} \\cos{\\left(\\theta_{2} \\right)} \\cos{\\left(\\theta_{3} \\right)}}$"
      ],
      "text/plain": [
       " ⎛                                                                            \n",
       " ⎜                                                                            \n",
       " ⎜                                                                            \n",
       " ⎜                                                                            \n",
       "-⎝(n₁⋅cos(θ₂) - n₂⋅cos(θ₁))⋅(n₂⋅cos(θ₃) + n₃⋅cos(θ₂)) + (n₁⋅cos(θ₂) + n₂⋅cos(θ\n",
       "──────────────────────────────────────────────────────────────────────────────\n",
       "                                                                       4⋅n₂⋅n₃\n",
       "\n",
       "                                         ⎛        2    ⎞⎞             ⎛       \n",
       "                               4.0⋅ⅈ⋅π⋅t⋅⎝n₂ - sin (θ₂)⎠⎟  -2.0⋅ⅈ⋅π⋅t⋅⎝n₂ - si\n",
       "                               ─────────────────────────⎟  ───────────────────\n",
       "                                       λ⋅cos(θ₂)        ⎟           λ⋅cos(θ₂) \n",
       "₁))⋅(n₂⋅cos(θ₃) - n₃⋅cos(θ₂))⋅ℯ                         ⎠⋅ℯ                   \n",
       "──────────────────────────────────────────────────────────────────────────────\n",
       "⋅cos(θ₂)⋅cos(θ₃)                                                              \n",
       "\n",
       " 2    ⎞  \n",
       "n (θ₂)⎠  \n",
       "──────── \n",
       "         \n",
       "         \n",
       "─────────\n",
       "         "
      ]
     },
     "execution_count": 36,
     "metadata": {},
     "output_type": "execute_result"
    }
   ],
   "source": [
    "m00 = M[0,0].simplify()\n",
    "m00"
   ]
  },
  {
   "cell_type": "code",
   "execution_count": 37,
   "metadata": {},
   "outputs": [
    {
     "data": {
      "image/png": "[encoded data removed]",
      "text/latex": [
       "$\\displaystyle \\frac{\\left(\\left(n_{1} \\cos{\\left(\\theta_{2} \\right)} - n_{2} \\cos{\\left(\\theta_{1} \\right)}\\right) \\left(n_{2} \\cos{\\left(\\theta_{3} \\right)} - n_{3} \\cos{\\left(\\theta_{2} \\right)}\\right) e^{\\frac{4.0 i \\pi t \\left(n_{2} - \\sin^{2}{\\left(\\theta_{2} \\right)}\\right)}{\\lambda \\cos{\\left(\\theta_{2} \\right)}}} + \\left(n_{1} \\cos{\\left(\\theta_{2} \\right)} + n_{2} \\cos{\\left(\\theta_{1} \\right)}\\right) \\left(n_{2} \\cos{\\left(\\theta_{3} \\right)} + n_{3} \\cos{\\left(\\theta_{2} \\right)}\\right)\\right) e^{- \\frac{2.0 i \\pi t \\left(n_{2} - \\sin^{2}{\\left(\\theta_{2} \\right)}\\right)}{\\lambda \\cos{\\left(\\theta_{2} \\right)}}}}{4 n_{2} n_{3} \\cos{\\left(\\theta_{2} \\right)} \\cos{\\left(\\theta_{3} \\right)}}$"
      ],
      "text/plain": [
       "⎛                                                               ⎛        2    \n",
       "⎜                                                     4.0⋅ⅈ⋅π⋅t⋅⎝n₂ - sin (θ₂)\n",
       "⎜                                                     ────────────────────────\n",
       "⎜                                                             λ⋅cos(θ₂)       \n",
       "⎝(n₁⋅cos(θ₂) - n₂⋅cos(θ₁))⋅(n₂⋅cos(θ₃) - n₃⋅cos(θ₂))⋅ℯ                        \n",
       "──────────────────────────────────────────────────────────────────────────────\n",
       "                                                                      4⋅n₂⋅n₃⋅\n",
       "\n",
       "⎞                                                      ⎞             ⎛        \n",
       "⎠                                                      ⎟  -2.0⋅ⅈ⋅π⋅t⋅⎝n₂ - sin\n",
       "─                                                      ⎟  ────────────────────\n",
       "                                                       ⎟           λ⋅cos(θ₂)  \n",
       "  + (n₁⋅cos(θ₂) + n₂⋅cos(θ₁))⋅(n₂⋅cos(θ₃) + n₃⋅cos(θ₂))⎠⋅ℯ                    \n",
       "──────────────────────────────────────────────────────────────────────────────\n",
       "cos(θ₂)⋅cos(θ₃)                                                               \n",
       "\n",
       "2    ⎞ \n",
       " (θ₂)⎠ \n",
       "───────\n",
       "       \n",
       "       \n",
       "───────\n",
       "       "
      ]
     },
     "execution_count": 37,
     "metadata": {},
     "output_type": "execute_result"
    }
   ],
   "source": [
    "m01 = M[0,1].simplify()\n",
    "m01"
   ]
  },
  {
   "cell_type": "code",
   "execution_count": 38,
   "metadata": {},
   "outputs": [
    {
     "data": {
      "image/png": "[encoded data removed]",
      "text/latex": [
       "$\\displaystyle \\frac{\\left(\\left(n_{1} \\cos{\\left(\\theta_{2} \\right)} - n_{2} \\cos{\\left(\\theta_{1} \\right)}\\right) \\left(n_{2} \\cos{\\left(\\theta_{3} \\right)} - n_{3} \\cos{\\left(\\theta_{2} \\right)}\\right) + \\left(n_{1} \\cos{\\left(\\theta_{2} \\right)} + n_{2} \\cos{\\left(\\theta_{1} \\right)}\\right) \\left(n_{2} \\cos{\\left(\\theta_{3} \\right)} + n_{3} \\cos{\\left(\\theta_{2} \\right)}\\right) e^{\\frac{4.0 i \\pi t \\left(n_{2} - \\sin^{2}{\\left(\\theta_{2} \\right)}\\right)}{\\lambda \\cos{\\left(\\theta_{2} \\right)}}}\\right) e^{- \\frac{2.0 i \\pi t \\left(n_{2} - \\sin^{2}{\\left(\\theta_{2} \\right)}\\right)}{\\lambda \\cos{\\left(\\theta_{2} \\right)}}}}{4 n_{2} n_{3} \\cos{\\left(\\theta_{2} \\right)} \\cos{\\left(\\theta_{3} \\right)}}$"
      ],
      "text/plain": [
       "⎛                                                                             \n",
       "⎜                                                                             \n",
       "⎜                                                                             \n",
       "⎜                                                                             \n",
       "⎝(n₁⋅cos(θ₂) - n₂⋅cos(θ₁))⋅(n₂⋅cos(θ₃) - n₃⋅cos(θ₂)) + (n₁⋅cos(θ₂) + n₂⋅cos(θ₁\n",
       "──────────────────────────────────────────────────────────────────────────────\n",
       "                                                                      4⋅n₂⋅n₃⋅\n",
       "\n",
       "                                        ⎛        2    ⎞⎞             ⎛        \n",
       "                              4.0⋅ⅈ⋅π⋅t⋅⎝n₂ - sin (θ₂)⎠⎟  -2.0⋅ⅈ⋅π⋅t⋅⎝n₂ - sin\n",
       "                              ─────────────────────────⎟  ────────────────────\n",
       "                                      λ⋅cos(θ₂)        ⎟           λ⋅cos(θ₂)  \n",
       "))⋅(n₂⋅cos(θ₃) + n₃⋅cos(θ₂))⋅ℯ                         ⎠⋅ℯ                    \n",
       "──────────────────────────────────────────────────────────────────────────────\n",
       "cos(θ₂)⋅cos(θ₃)                                                               \n",
       "\n",
       "2    ⎞ \n",
       " (θ₂)⎠ \n",
       "───────\n",
       "       \n",
       "       \n",
       "───────\n",
       "       "
      ]
     },
     "execution_count": 38,
     "metadata": {},
     "output_type": "execute_result"
    }
   ],
   "source": [
    "m10 = M[1,0].simplify()\n",
    "m10"
   ]
  },
  {
   "cell_type": "code",
   "execution_count": 39,
   "metadata": {},
   "outputs": [
    {
     "data": {
      "image/png": "[encoded data removed]",
      "text/latex": [
       "$\\displaystyle - \\frac{\\left(\\left(n_{1} \\cos{\\left(\\theta_{2} \\right)} - n_{2} \\cos{\\left(\\theta_{1} \\right)}\\right) \\left(n_{2} \\cos{\\left(\\theta_{3} \\right)} + n_{3} \\cos{\\left(\\theta_{2} \\right)}\\right) e^{\\frac{4.0 i \\pi t \\left(n_{2} - \\sin^{2}{\\left(\\theta_{2} \\right)}\\right)}{\\lambda \\cos{\\left(\\theta_{2} \\right)}}} + \\left(n_{1} \\cos{\\left(\\theta_{2} \\right)} + n_{2} \\cos{\\left(\\theta_{1} \\right)}\\right) \\left(n_{2} \\cos{\\left(\\theta_{3} \\right)} - n_{3} \\cos{\\left(\\theta_{2} \\right)}\\right)\\right) e^{- \\frac{2.0 i \\pi t \\left(n_{2} - \\sin^{2}{\\left(\\theta_{2} \\right)}\\right)}{\\lambda \\cos{\\left(\\theta_{2} \\right)}}}}{4 n_{2} n_{3} \\cos{\\left(\\theta_{2} \\right)} \\cos{\\left(\\theta_{3} \\right)}}$"
      ],
      "text/plain": [
       " ⎛                                                               ⎛        2   \n",
       " ⎜                                                     4.0⋅ⅈ⋅π⋅t⋅⎝n₂ - sin (θ₂\n",
       " ⎜                                                     ───────────────────────\n",
       " ⎜                                                             λ⋅cos(θ₂)      \n",
       "-⎝(n₁⋅cos(θ₂) - n₂⋅cos(θ₁))⋅(n₂⋅cos(θ₃) + n₃⋅cos(θ₂))⋅ℯ                       \n",
       "──────────────────────────────────────────────────────────────────────────────\n",
       "                                                                       4⋅n₂⋅n₃\n",
       "\n",
       " ⎞                                                      ⎞             ⎛       \n",
       ")⎠                                                      ⎟  -2.0⋅ⅈ⋅π⋅t⋅⎝n₂ - si\n",
       "──                                                      ⎟  ───────────────────\n",
       "                                                        ⎟           λ⋅cos(θ₂) \n",
       "   + (n₁⋅cos(θ₂) + n₂⋅cos(θ₁))⋅(n₂⋅cos(θ₃) - n₃⋅cos(θ₂))⎠⋅ℯ                   \n",
       "──────────────────────────────────────────────────────────────────────────────\n",
       "⋅cos(θ₂)⋅cos(θ₃)                                                              \n",
       "\n",
       " 2    ⎞  \n",
       "n (θ₂)⎠  \n",
       "──────── \n",
       "         \n",
       "         \n",
       "─────────\n",
       "         "
      ]
     },
     "execution_count": 39,
     "metadata": {},
     "output_type": "execute_result"
    }
   ],
   "source": [
    "m11 = M[1,1].simplify()\n",
    "m11"
   ]
  },
  {
   "cell_type": "code",
   "execution_count": 34,
   "metadata": {},
   "outputs": [
    {
     "data": {
      "text/latex": [
       "$\\displaystyle \\left[\\begin{matrix}- \\frac{n_{1}}{2 n_{3}} + \\frac{1}{2} & \\frac{n_{1}}{2 n_{3}} + \\frac{1}{2}\\\\\\frac{n_{1}}{2 n_{3}} + \\frac{1}{2} & - \\frac{n_{1}}{2 n_{3}} + \\frac{1}{2}\\end{matrix}\\right]$"
      ],
      "text/plain": [
       "⎡   n₁    1    n₁    1 ⎤\n",
       "⎢- ──── + ─   ──── + ─ ⎥\n",
       "⎢  2⋅n₃   2   2⋅n₃   2 ⎥\n",
       "⎢                      ⎥\n",
       "⎢  n₁    1      n₁    1⎥\n",
       "⎢ ──── + ─   - ──── + ─⎥\n",
       "⎣ 2⋅n₃   2     2⋅n₃   2⎦"
      ]
     },
     "execution_count": 34,
     "metadata": {},
     "output_type": "execute_result"
    }
   ],
   "source": [
    "N = M.subs([(theta1,0), (theta2,0), (theta3,0), (n2,n3), (t,0)])\n",
    "N"
   ]
  },
  {
   "cell_type": "code",
   "execution_count": 35,
   "metadata": {},
   "outputs": [
    {
     "data": {
      "image/png": "[encoded data removed]",
      "text/latex": [
       "$\\displaystyle \\frac{2 n_{1}}{n_{1} + n_{3}}$"
      ],
      "text/plain": [
       "  2⋅n₁ \n",
       "───────\n",
       "n₁ + n₃"
      ]
     },
     "execution_count": 35,
     "metadata": {},
     "output_type": "execute_result"
    }
   ],
   "source": [
    "(N[1,0] - N[1,1]*N[0,0]/N[0,1]).simplify()"
   ]
  },
  {
   "cell_type": "code",
   "execution_count": 40,
   "metadata": {},
   "outputs": [
    {
     "name": "stdout",
     "output_type": "stream",
     "text": [
      "n_1 = Symbol('n_1')\n",
      "theta2 = Symbol('theta2')\n",
      "n_2 = Symbol('n_2')\n",
      "theta1 = Symbol('theta1')\n",
      "theta3 = Symbol('theta3')\n",
      "n_3 = Symbol('n_3')\n",
      "t = Symbol('t')\n",
      "lambda_ = Symbol('lambda')\n",
      "e = -((n_1*cos(theta2) - n_2*cos(theta1))*(n_2*cos(theta3) + n_3*cos(theta2)) + (n_1*cos(theta2) + n_2*cos(theta1))*(n_2*cos(theta3) - n_3*cos(theta2))*exp(4.0*I*pi*t*(n_2 - sin(theta2)**2)/(lambda_*cos(theta2))))*exp(-2.0*I*pi*t*(n_2 - sin(theta2)**2)/(lambda_*cos(theta2)))/(4*n_2*n_3*cos(theta2)*cos(theta3))\n"
     ]
    }
   ],
   "source": [
    "print_python(m00)"
   ]
  },
  {
   "cell_type": "markdown",
   "metadata": {},
   "source": [
    "# Now for S-polarisation"
   ]
  },
  {
   "cell_type": "code",
   "execution_count": 43,
   "metadata": {},
   "outputs": [
    {
     "ename": "TypeError",
     "evalue": "unsupported operand type(s) for *: 'MutableDenseMatrix' and 'NoneType'",
     "output_type": "error",
     "traceback": [
      "\u001b[0;31m---------------------------------------------------------------------------\u001b[0m",
      "\u001b[0;31mTypeError\u001b[0m                                 Traceback (most recent call last)",
      "\u001b[0;32m<ipython-input-43-d4a75b4a2e2c>\u001b[0m in \u001b[0;36m<module>\u001b[0;34m\u001b[0m\n\u001b[0;32m----> 1\u001b[0;31m \u001b[0mMS\u001b[0m \u001b[0;34m=\u001b[0m \u001b[0mMs\u001b[0m\u001b[0;34m(\u001b[0m\u001b[0mn2\u001b[0m\u001b[0;34m,\u001b[0m \u001b[0mtheta2\u001b[0m\u001b[0;34m,\u001b[0m \u001b[0mn3\u001b[0m\u001b[0;34m,\u001b[0m \u001b[0mtheta3\u001b[0m\u001b[0;34m)\u001b[0m\u001b[0;34m*\u001b[0m\u001b[0mP\u001b[0m\u001b[0;34m(\u001b[0m\u001b[0mtheta2\u001b[0m\u001b[0;34m,\u001b[0m \u001b[0mn2\u001b[0m\u001b[0;34m,\u001b[0m\u001b[0mt\u001b[0m\u001b[0;34m,\u001b[0m \u001b[0mwl\u001b[0m\u001b[0;34m)\u001b[0m\u001b[0;34m*\u001b[0m\u001b[0mMs\u001b[0m\u001b[0;34m(\u001b[0m\u001b[0mn1\u001b[0m\u001b[0;34m,\u001b[0m \u001b[0mtheta1\u001b[0m\u001b[0;34m,\u001b[0m \u001b[0mn2\u001b[0m\u001b[0;34m,\u001b[0m \u001b[0mtheta2\u001b[0m\u001b[0;34m)\u001b[0m\u001b[0;34m.\u001b[0m\u001b[0msimplify\u001b[0m\u001b[0;34m(\u001b[0m\u001b[0;34m)\u001b[0m\u001b[0;34m\u001b[0m\u001b[0;34m\u001b[0m\u001b[0m\n\u001b[0m",
      "\u001b[0;31mTypeError\u001b[0m: unsupported operand type(s) for *: 'MutableDenseMatrix' and 'NoneType'"
     ]
    }
   ],
   "source": [
    "MS = Ms(n2, theta2, n3, theta3)*P(theta2, n2,t, wl)*Ms(n1, theta1, n2, theta2)"
   ]
  },
  {
   "cell_type": "code",
   "execution_count": 44,
   "metadata": {},
   "outputs": [],
   "source": [
    "ms00 = MS[0,0].simplify()\n",
    "ms01 = MS[0,1].simplify()\n",
    "ms10 = MS[1,0].simplify()\n",
    "ms11 = MS[1,1].simplify()"
   ]
  },
  {
   "cell_type": "code",
   "execution_count": 45,
   "metadata": {},
   "outputs": [
    {
     "data": {
      "image/png": "[encoded data removed]",
      "text/latex": [
       "$\\displaystyle - \\frac{\\left(\\left(n_{1} \\cos{\\left(\\theta_{1} \\right)} - n_{2} \\cos{\\left(\\theta_{2} \\right)}\\right) \\left(n_{2} \\cos{\\left(\\theta_{2} \\right)} + n_{3} \\cos{\\left(\\theta_{3} \\right)}\\right) + \\left(n_{1} \\cos{\\left(\\theta_{1} \\right)} + n_{2} \\cos{\\left(\\theta_{2} \\right)}\\right) \\left(n_{2} \\cos{\\left(\\theta_{2} \\right)} - n_{3} \\cos{\\left(\\theta_{3} \\right)}\\right) e^{\\frac{4.0 i \\pi t \\left(n_{2} - \\sin^{2}{\\left(\\theta_{2} \\right)}\\right)}{\\lambda \\cos{\\left(\\theta_{2} \\right)}}}\\right) e^{- \\frac{2.0 i \\pi t \\left(n_{2} - \\sin^{2}{\\left(\\theta_{2} \\right)}\\right)}{\\lambda \\cos{\\left(\\theta_{2} \\right)}}}}{4 n_{2} n_{3} \\cos{\\left(\\theta_{2} \\right)} \\cos{\\left(\\theta_{3} \\right)}}$"
      ],
      "text/plain": [
       " ⎛                                                                            \n",
       " ⎜                                                                            \n",
       " ⎜                                                                            \n",
       " ⎜                                                                            \n",
       "-⎝(n₁⋅cos(θ₁) - n₂⋅cos(θ₂))⋅(n₂⋅cos(θ₂) + n₃⋅cos(θ₃)) + (n₁⋅cos(θ₁) + n₂⋅cos(θ\n",
       "──────────────────────────────────────────────────────────────────────────────\n",
       "                                                                       4⋅n₂⋅n₃\n",
       "\n",
       "                                         ⎛        2    ⎞⎞             ⎛       \n",
       "                               4.0⋅ⅈ⋅π⋅t⋅⎝n₂ - sin (θ₂)⎠⎟  -2.0⋅ⅈ⋅π⋅t⋅⎝n₂ - si\n",
       "                               ─────────────────────────⎟  ───────────────────\n",
       "                                       λ⋅cos(θ₂)        ⎟           λ⋅cos(θ₂) \n",
       "₂))⋅(n₂⋅cos(θ₂) - n₃⋅cos(θ₃))⋅ℯ                         ⎠⋅ℯ                   \n",
       "──────────────────────────────────────────────────────────────────────────────\n",
       "⋅cos(θ₂)⋅cos(θ₃)                                                              \n",
       "\n",
       " 2    ⎞  \n",
       "n (θ₂)⎠  \n",
       "──────── \n",
       "         \n",
       "         \n",
       "─────────\n",
       "         "
      ]
     },
     "execution_count": 45,
     "metadata": {},
     "output_type": "execute_result"
    }
   ],
   "source": [
    "ms00"
   ]
  },
  {
   "cell_type": "code",
   "execution_count": 46,
   "metadata": {},
   "outputs": [
    {
     "data": {
      "image/png": "[encoded data removed]",
      "text/latex": [
       "$\\displaystyle \\frac{\\left(\\left(n_{1} \\cos{\\left(\\theta_{1} \\right)} - n_{2} \\cos{\\left(\\theta_{2} \\right)}\\right) \\left(n_{2} \\cos{\\left(\\theta_{2} \\right)} - n_{3} \\cos{\\left(\\theta_{3} \\right)}\\right) e^{\\frac{4.0 i \\pi t \\left(n_{2} - \\sin^{2}{\\left(\\theta_{2} \\right)}\\right)}{\\lambda \\cos{\\left(\\theta_{2} \\right)}}} + \\left(n_{1} \\cos{\\left(\\theta_{1} \\right)} + n_{2} \\cos{\\left(\\theta_{2} \\right)}\\right) \\left(n_{2} \\cos{\\left(\\theta_{2} \\right)} + n_{3} \\cos{\\left(\\theta_{3} \\right)}\\right)\\right) e^{- \\frac{2.0 i \\pi t \\left(n_{2} - \\sin^{2}{\\left(\\theta_{2} \\right)}\\right)}{\\lambda \\cos{\\left(\\theta_{2} \\right)}}}}{4 n_{2} n_{3} \\cos{\\left(\\theta_{2} \\right)} \\cos{\\left(\\theta_{3} \\right)}}$"
      ],
      "text/plain": [
       "⎛                                                               ⎛        2    \n",
       "⎜                                                     4.0⋅ⅈ⋅π⋅t⋅⎝n₂ - sin (θ₂)\n",
       "⎜                                                     ────────────────────────\n",
       "⎜                                                             λ⋅cos(θ₂)       \n",
       "⎝(n₁⋅cos(θ₁) - n₂⋅cos(θ₂))⋅(n₂⋅cos(θ₂) - n₃⋅cos(θ₃))⋅ℯ                        \n",
       "──────────────────────────────────────────────────────────────────────────────\n",
       "                                                                      4⋅n₂⋅n₃⋅\n",
       "\n",
       "⎞                                                      ⎞             ⎛        \n",
       "⎠                                                      ⎟  -2.0⋅ⅈ⋅π⋅t⋅⎝n₂ - sin\n",
       "─                                                      ⎟  ────────────────────\n",
       "                                                       ⎟           λ⋅cos(θ₂)  \n",
       "  + (n₁⋅cos(θ₁) + n₂⋅cos(θ₂))⋅(n₂⋅cos(θ₂) + n₃⋅cos(θ₃))⎠⋅ℯ                    \n",
       "──────────────────────────────────────────────────────────────────────────────\n",
       "cos(θ₂)⋅cos(θ₃)                                                               \n",
       "\n",
       "2    ⎞ \n",
       " (θ₂)⎠ \n",
       "───────\n",
       "       \n",
       "       \n",
       "───────\n",
       "       "
      ]
     },
     "execution_count": 46,
     "metadata": {},
     "output_type": "execute_result"
    }
   ],
   "source": [
    "ms01"
   ]
  },
  {
   "cell_type": "code",
   "execution_count": 47,
   "metadata": {},
   "outputs": [
    {
     "data": {
      "image/png": "[encoded data removed]",
      "text/latex": [
       "$\\displaystyle \\frac{\\left(\\left(n_{1} \\cos{\\left(\\theta_{1} \\right)} - n_{2} \\cos{\\left(\\theta_{2} \\right)}\\right) \\left(n_{2} \\cos{\\left(\\theta_{2} \\right)} - n_{3} \\cos{\\left(\\theta_{3} \\right)}\\right) + \\left(n_{1} \\cos{\\left(\\theta_{1} \\right)} + n_{2} \\cos{\\left(\\theta_{2} \\right)}\\right) \\left(n_{2} \\cos{\\left(\\theta_{2} \\right)} + n_{3} \\cos{\\left(\\theta_{3} \\right)}\\right) e^{\\frac{4.0 i \\pi t \\left(n_{2} - \\sin^{2}{\\left(\\theta_{2} \\right)}\\right)}{\\lambda \\cos{\\left(\\theta_{2} \\right)}}}\\right) e^{- \\frac{2.0 i \\pi t \\left(n_{2} - \\sin^{2}{\\left(\\theta_{2} \\right)}\\right)}{\\lambda \\cos{\\left(\\theta_{2} \\right)}}}}{4 n_{2} n_{3} \\cos{\\left(\\theta_{2} \\right)} \\cos{\\left(\\theta_{3} \\right)}}$"
      ],
      "text/plain": [
       "⎛                                                                             \n",
       "⎜                                                                             \n",
       "⎜                                                                             \n",
       "⎜                                                                             \n",
       "⎝(n₁⋅cos(θ₁) - n₂⋅cos(θ₂))⋅(n₂⋅cos(θ₂) - n₃⋅cos(θ₃)) + (n₁⋅cos(θ₁) + n₂⋅cos(θ₂\n",
       "──────────────────────────────────────────────────────────────────────────────\n",
       "                                                                      4⋅n₂⋅n₃⋅\n",
       "\n",
       "                                        ⎛        2    ⎞⎞             ⎛        \n",
       "                              4.0⋅ⅈ⋅π⋅t⋅⎝n₂ - sin (θ₂)⎠⎟  -2.0⋅ⅈ⋅π⋅t⋅⎝n₂ - sin\n",
       "                              ─────────────────────────⎟  ────────────────────\n",
       "                                      λ⋅cos(θ₂)        ⎟           λ⋅cos(θ₂)  \n",
       "))⋅(n₂⋅cos(θ₂) + n₃⋅cos(θ₃))⋅ℯ                         ⎠⋅ℯ                    \n",
       "──────────────────────────────────────────────────────────────────────────────\n",
       "cos(θ₂)⋅cos(θ₃)                                                               \n",
       "\n",
       "2    ⎞ \n",
       " (θ₂)⎠ \n",
       "───────\n",
       "       \n",
       "       \n",
       "───────\n",
       "       "
      ]
     },
     "execution_count": 47,
     "metadata": {},
     "output_type": "execute_result"
    }
   ],
   "source": [
    "ms10"
   ]
  },
  {
   "cell_type": "code",
   "execution_count": 48,
   "metadata": {},
   "outputs": [
    {
     "data": {
      "image/png": "[encoded data removed]",
      "text/latex": [
       "$\\displaystyle - \\frac{\\left(\\left(n_{1} \\cos{\\left(\\theta_{1} \\right)} - n_{2} \\cos{\\left(\\theta_{2} \\right)}\\right) \\left(n_{2} \\cos{\\left(\\theta_{2} \\right)} + n_{3} \\cos{\\left(\\theta_{3} \\right)}\\right) e^{\\frac{4.0 i \\pi t \\left(n_{2} - \\sin^{2}{\\left(\\theta_{2} \\right)}\\right)}{\\lambda \\cos{\\left(\\theta_{2} \\right)}}} + \\left(n_{1} \\cos{\\left(\\theta_{1} \\right)} + n_{2} \\cos{\\left(\\theta_{2} \\right)}\\right) \\left(n_{2} \\cos{\\left(\\theta_{2} \\right)} - n_{3} \\cos{\\left(\\theta_{3} \\right)}\\right)\\right) e^{- \\frac{2.0 i \\pi t \\left(n_{2} - \\sin^{2}{\\left(\\theta_{2} \\right)}\\right)}{\\lambda \\cos{\\left(\\theta_{2} \\right)}}}}{4 n_{2} n_{3} \\cos{\\left(\\theta_{2} \\right)} \\cos{\\left(\\theta_{3} \\right)}}$"
      ],
      "text/plain": [
       " ⎛                                                               ⎛        2   \n",
       " ⎜                                                     4.0⋅ⅈ⋅π⋅t⋅⎝n₂ - sin (θ₂\n",
       " ⎜                                                     ───────────────────────\n",
       " ⎜                                                             λ⋅cos(θ₂)      \n",
       "-⎝(n₁⋅cos(θ₁) - n₂⋅cos(θ₂))⋅(n₂⋅cos(θ₂) + n₃⋅cos(θ₃))⋅ℯ                       \n",
       "──────────────────────────────────────────────────────────────────────────────\n",
       "                                                                       4⋅n₂⋅n₃\n",
       "\n",
       " ⎞                                                      ⎞             ⎛       \n",
       ")⎠                                                      ⎟  -2.0⋅ⅈ⋅π⋅t⋅⎝n₂ - si\n",
       "──                                                      ⎟  ───────────────────\n",
       "                                                        ⎟           λ⋅cos(θ₂) \n",
       "   + (n₁⋅cos(θ₁) + n₂⋅cos(θ₂))⋅(n₂⋅cos(θ₂) - n₃⋅cos(θ₃))⎠⋅ℯ                   \n",
       "──────────────────────────────────────────────────────────────────────────────\n",
       "⋅cos(θ₂)⋅cos(θ₃)                                                              \n",
       "\n",
       " 2    ⎞  \n",
       "n (θ₂)⎠  \n",
       "──────── \n",
       "         \n",
       "         \n",
       "─────────\n",
       "         "
      ]
     },
     "execution_count": 48,
     "metadata": {},
     "output_type": "execute_result"
    }
   ],
   "source": [
    "ms11"
   ]
  },
  {
   "cell_type": "code",
   "execution_count": null,
   "metadata": {},
   "outputs": [],
   "source": []
  }
 ],
 "metadata": {
  "hide_input": false,
  "kernelspec": {
   "display_name": "Python [conda env:raytrace]",
   "language": "python",
   "name": "conda-env-raytrace-py"
  },
  "language_info": {
   "codemirror_mode": {
    "name": "ipython",
    "version": 3
   },
   "file_extension": ".py",
   "mimetype": "text/x-python",
   "name": "python",
   "nbconvert_exporter": "python",
   "pygments_lexer": "ipython3",
   "version": "3.7.10"
  },
  "toc": {
   "base_numbering": 1,
   "nav_menu": {},
   "number_sections": true,
   "sideBar": true,
   "skip_h1_title": false,
   "title_cell": "Table of Contents",
   "title_sidebar": "Contents",
   "toc_cell": false,
   "toc_position": {},
   "toc_section_display": true,
   "toc_window_display": false
  }
 },
 "nbformat": 4,
 "nbformat_minor": 2
}
